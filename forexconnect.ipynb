{
 "cells": [
  {
   "cell_type": "code",
   "execution_count": 1,
   "metadata": {
    "collapsed": false
   },
   "outputs": [],
   "source": [
    "import time\n",
    "import threading\n",
    "from forexconnect import fxcorepy, ForexConnect, ResponseListener, Common\n",
    "\n",
    "class FC:\n",
    "    def request_completed(self,one,two):\n",
    "        print(\"request completed\")\n",
    "        print(one)\n",
    "        print(two)\n",
    "    \n",
    "    #this works:\n",
    "    def request_failed(self,one,two):\n",
    "        print(\"request failed\")\n",
    "        print(one)\n",
    "        print(two)\n",
    "    \n",
    "    #this won't work\n",
    "    def request_failed_wrong(self,one,two,three):\n",
    "        print(\"request failed\")\n",
    "        print(one)\n",
    "        print(two)\n",
    "        print(three)\n",
    "    \n",
    "    def __init__(self, login, password, url, connection):\n",
    "        self.fx = None\n",
    "        self.thread = None\n",
    "        self.status = fxcorepy.AO2GSessionStatus.O2GSessionStatus.DISCONNECTED\n",
    "        self.connectionSwitchEvent = threading.Event()\n",
    "        self.login = login\n",
    "        self.password = password\n",
    "        self.url = url\n",
    "        self.connection = connection\n",
    "        self.thread = threading.Thread(target=self.fcThread)\n",
    "        self.thread.setDaemon(True)\n",
    "        self.thread.start()\n",
    "        self.response_listener = ResponseListener(\n",
    "            session=self.fx.session,\n",
    "            on_request_completed_callback = self.request_completed,\n",
    "            on_request_failed_callback = self.request_failed\n",
    "        )\n",
    "        self.response_listener_wrong = ResponseListener(\n",
    "            session=self.fx.session,\n",
    "            on_request_completed_callback = self.request_completed,\n",
    "            on_request_failed_callback = self.request_failed_wrong\n",
    "        )\n",
    "    \n",
    "    def session_status_changed(self, session: fxcorepy.O2GSession,\n",
    "            status: fxcorepy.AO2GSessionStatus.O2GSessionStatus):\n",
    "        self.status = status\n",
    "    \n",
    "    def fcThread(self):\n",
    "        self.fx = ForexConnect()\n",
    "        while True:\n",
    "            self.fx.login(\n",
    "                self.login,\n",
    "                self.password,\n",
    "                self.url,\n",
    "                self.connection,\n",
    "                session_status_callback=self.session_status_changed\n",
    "            )\n",
    "            self.connectionSwitchEvent.clear()\n",
    "            self.connectionSwitchEvent.wait()\n",
    "            self.fx.logout()\n",
    "            self.connectionSwitchEvent.clear()\n",
    "            self.connectionSwitchEvent.wait()\n",
    "    \n",
    "    def connect(self):\n",
    "        if self.status == fxcorepy.AO2GSessionStatus.O2GSessionStatus.DISCONNECTED:\n",
    "            self.connectionSwitchEvent.set()\n",
    "    \n",
    "    def disconnect(self):\n",
    "        if self.status == fxcorepy.AO2GSessionStatus.O2GSessionStatus.CONNECTED:\n",
    "            self.connectionSwitchEvent.set()"
   ]
  },
  {
   "cell_type": "code",
   "execution_count": 2,
   "metadata": {
    "collapsed": false
   },
   "outputs": [],
   "source": [
    "fc = FC(\"d161038313\",\"1234\",\"https://www.fxcorporate.com/Hosts.jsp\",\"Demo\")\n",
    "fc.connect()"
   ]
  },
  {
   "cell_type": "code",
   "execution_count": 5,
   "metadata": {
    "collapsed": false
   },
   "outputs": [
    {
     "data": {
      "text/plain": [
       "forexconnect.lib.fxcorepy.O2GSessionStatus.CONNECTED"
      ]
     },
     "execution_count": 5,
     "metadata": {},
     "output_type": "execute_result"
    }
   ],
   "source": [
    "fc.status"
   ]
  },
  {
   "cell_type": "code",
   "execution_count": 6,
   "metadata": {
    "collapsed": false,
    "scrolled": false
   },
   "outputs": [
    {
     "name": "stderr",
     "output_type": "stream",
     "text": [
      "ERROR:root:Request failed MINIDEMO_7F5BEC95D8867FF8E053E12B3C0A5F25_02082019025531025289_P-23: Description=19915;DAS 19915: ZDas Exception\n",
      " ORA-20001: Account is not in pool. Skip request for acct 1\n",
      "\n"
     ]
    },
    {
     "name": "stdout",
     "output_type": "stream",
     "text": [
      "request failed\n",
      "MINIDEMO_7F5BEC95D8867FF8E053E12B3C0A5F25_02082019025531025289_P-23\n",
      "Description=19915;DAS 19915: ZDas Exception\n",
      " ORA-20001: Account is not in pool. Skip request for acct 1\n",
      "\n"
     ]
    }
   ],
   "source": [
    "request = fc.fx.create_order_request(\n",
    "    order_type=fxcorepy.Constants.Orders.TRUE_MARKET_OPEN,\n",
    "    ACCOUNT_ID=\"1\",\n",
    "    BUY_SELL=\"B\",\n",
    "    AMOUNT=1,\n",
    "    SYMBOL=Common.get_offer(fc.fx,\"EUR/USD\").instrument\n",
    ")\n",
    "fc.fx.send_request_async(request, fc.response_listener)"
   ]
  },
  {
   "cell_type": "code",
   "execution_count": 7,
   "metadata": {
    "collapsed": false
   },
   "outputs": [
    {
     "name": "stderr",
     "output_type": "stream",
     "text": [
      "ERROR:root:Request failed MINIDEMO_7F5BEC95D8867FF8E053E12B3C0A5F25_02082019025531025289_P-25: Description=19915;DAS 19915: ZDas Exception\n",
      " ORA-20001: Account is not in pool. Skip request for acct 1\n",
      "\n"
     ]
    }
   ],
   "source": [
    "request = fc.fx.create_order_request(\n",
    "    order_type=fxcorepy.Constants.Orders.TRUE_MARKET_OPEN,\n",
    "    ACCOUNT_ID=\"1\",\n",
    "    BUY_SELL=\"B\",\n",
    "    AMOUNT=1,\n",
    "    SYMBOL=Common.get_offer(fc.fx,\"EUR/USD\").instrument\n",
    ")\n",
    "fc.fx.send_request_async(request, fc.response_listener_wrong)"
   ]
  }
 ],
 "metadata": {
  "kernelspec": {
   "display_name": "Python 3",
   "language": "python",
   "name": "python3"
  },
  "language_info": {
   "codemirror_mode": {
    "name": "ipython",
    "version": 3
   },
   "file_extension": ".py",
   "mimetype": "text/x-python",
   "name": "python",
   "nbconvert_exporter": "python",
   "pygments_lexer": "ipython3",
   "version": "3.5.3"
  }
 },
 "nbformat": 4,
 "nbformat_minor": 2
}
